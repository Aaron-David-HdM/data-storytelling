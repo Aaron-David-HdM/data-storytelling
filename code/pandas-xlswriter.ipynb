{
 "cells": [
  {
   "cell_type": "code",
   "execution_count": 24,
   "metadata": {},
   "outputs": [],
   "source": [
    "import pandas as pd\n",
    "import numpy as np\n",
    "import xlsxwriter"
   ]
  },
  {
   "cell_type": "code",
   "execution_count": 25,
   "metadata": {},
   "outputs": [],
   "source": [
    "# Sample DataFrame\n",
    "df = pd.DataFrame(np.random.randn(5, 4), \n",
    "                columns=['one', 'two', 'three', 'four'],\n",
    "                index=['a', 'b', 'c', 'd', 'e'])\n"
   ]
  },
  {
   "cell_type": "code",
   "execution_count": 26,
   "metadata": {},
   "outputs": [
    {
     "data": {
      "text/html": [
       "<div>\n",
       "<style scoped>\n",
       "    .dataframe tbody tr th:only-of-type {\n",
       "        vertical-align: middle;\n",
       "    }\n",
       "\n",
       "    .dataframe tbody tr th {\n",
       "        vertical-align: top;\n",
       "    }\n",
       "\n",
       "    .dataframe thead th {\n",
       "        text-align: right;\n",
       "    }\n",
       "</style>\n",
       "<table border=\"1\" class=\"dataframe\">\n",
       "  <thead>\n",
       "    <tr style=\"text-align: right;\">\n",
       "      <th></th>\n",
       "      <th>one</th>\n",
       "      <th>two</th>\n",
       "      <th>three</th>\n",
       "      <th>four</th>\n",
       "    </tr>\n",
       "  </thead>\n",
       "  <tbody>\n",
       "    <tr>\n",
       "      <th>a</th>\n",
       "      <td>0.692768</td>\n",
       "      <td>-1.015805</td>\n",
       "      <td>0.442346</td>\n",
       "      <td>0.076114</td>\n",
       "    </tr>\n",
       "    <tr>\n",
       "      <th>b</th>\n",
       "      <td>-0.221192</td>\n",
       "      <td>-0.855598</td>\n",
       "      <td>1.849818</td>\n",
       "      <td>-1.381809</td>\n",
       "    </tr>\n",
       "    <tr>\n",
       "      <th>c</th>\n",
       "      <td>-0.217146</td>\n",
       "      <td>-1.613632</td>\n",
       "      <td>0.730151</td>\n",
       "      <td>1.060618</td>\n",
       "    </tr>\n",
       "    <tr>\n",
       "      <th>d</th>\n",
       "      <td>-1.321791</td>\n",
       "      <td>0.268923</td>\n",
       "      <td>0.814842</td>\n",
       "      <td>-0.296047</td>\n",
       "    </tr>\n",
       "    <tr>\n",
       "      <th>e</th>\n",
       "      <td>-0.300919</td>\n",
       "      <td>0.884040</td>\n",
       "      <td>1.130009</td>\n",
       "      <td>0.496487</td>\n",
       "    </tr>\n",
       "  </tbody>\n",
       "</table>\n",
       "</div>"
      ],
      "text/plain": [
       "        one       two     three      four\n",
       "a  0.692768 -1.015805  0.442346  0.076114\n",
       "b -0.221192 -0.855598  1.849818 -1.381809\n",
       "c -0.217146 -1.613632  0.730151  1.060618\n",
       "d -1.321791  0.268923  0.814842 -0.296047\n",
       "e -0.300919  0.884040  1.130009  0.496487"
      ]
     },
     "execution_count": 26,
     "metadata": {},
     "output_type": "execute_result"
    }
   ],
   "source": [
    "df"
   ]
  },
  {
   "cell_type": "code",
   "execution_count": 27,
   "metadata": {},
   "outputs": [],
   "source": [
    "# Dump Pandas DataFrame to Excel sheet\n",
    "writer = pd.ExcelWriter('myreport.xlsx', engine='xlsxwriter')\n"
   ]
  },
  {
   "cell_type": "code",
   "execution_count": 28,
   "metadata": {},
   "outputs": [],
   "source": [
    "df.to_excel(writer, sheet_name='Sheet1', startrow=2)"
   ]
  },
  {
   "cell_type": "code",
   "execution_count": 29,
   "metadata": {},
   "outputs": [],
   "source": [
    "# Get book and sheet objects for futher manipulation below\n",
    "book = writer.book\n",
    "sheet = writer.sheets['Sheet1']"
   ]
  },
  {
   "cell_type": "code",
   "execution_count": 30,
   "metadata": {},
   "outputs": [
    {
     "data": {
      "text/plain": [
       "0"
      ]
     },
     "execution_count": 30,
     "metadata": {},
     "output_type": "execute_result"
    }
   ],
   "source": [
    "# Title\n",
    "bold = book.add_format({'bold': True, 'size': 24})\n",
    "sheet.write('A1', 'My Report', bold)"
   ]
  },
  {
   "cell_type": "code",
   "execution_count": 31,
   "metadata": {},
   "outputs": [
    {
     "data": {
      "text/plain": [
       "0"
      ]
     },
     "execution_count": 31,
     "metadata": {},
     "output_type": "execute_result"
    }
   ],
   "source": [
    "# Color negative values in the DataFrame in red\n",
    "format1 = book.add_format({'font_color': '#E93423'})\n",
    "sheet.conditional_format('B4:E8', {'type': 'cell', 'criteria': '<=', 'value': 0, 'format': format1})\n"
   ]
  },
  {
   "cell_type": "code",
   "execution_count": 32,
   "metadata": {},
   "outputs": [],
   "source": [
    "\n",
    "# Chart\n",
    "chart = book.add_chart({'type': 'column'})\n",
    "chart.add_series({'values': '=Sheet1!B4:B8', 'name': '=Sheet1!B3', 'categories': '=Sheet1!$A$4:$A$8'})\n",
    "chart.add_series({'values': '=Sheet1!C4:C8', 'name': '=Sheet1!C3'})\n",
    "chart.add_series({'values': '=Sheet1!D4:D8', 'name': '=Sheet1!D3'})\n",
    "chart.add_series({'values': '=Sheet1!E4:E8', 'name': '=Sheet1!E3'})\n",
    "sheet.insert_chart('A10', chart)\n",
    "\n",
    "writer.save()"
   ]
  }
 ],
 "metadata": {
  "interpreter": {
   "hash": "20a7071512cc97adb0917c020f9ed0e511017cccac1ed997b81e1d9a9df89bc4"
  },
  "kernelspec": {
   "display_name": "Python 3.6.13 64-bit ('report': conda)",
   "language": "python",
   "name": "python3"
  },
  "language_info": {
   "codemirror_mode": {
    "name": "ipython",
    "version": 3
   },
   "file_extension": ".py",
   "mimetype": "text/x-python",
   "name": "python",
   "nbconvert_exporter": "python",
   "pygments_lexer": "ipython3",
   "version": "3.6.13"
  },
  "orig_nbformat": 4
 },
 "nbformat": 4,
 "nbformat_minor": 2
}
